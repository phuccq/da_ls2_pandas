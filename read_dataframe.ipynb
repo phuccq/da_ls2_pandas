{
 "cells": [
  {
   "cell_type": "code",
   "execution_count": 27,
   "id": "c18eeaf8",
   "metadata": {},
   "outputs": [],
   "source": [
    "import pandas as pd\n",
    "import numpy as np\n",
    "\n",
    "# Đọc file\n",
    "\n",
    "df_csv = pd.read_csv('FoodPrice_in_Turkey.csv')\n",
    "df_csv.head(5)\n",
    "\n",
    "# df_excel = pd.read_excel('house_price_dống-da.xlsx')\n",
    "# df_excel.head()\n",
    "\n",
    "# url = 'https://en.wikipedia.org/wiki/List_of_sovereign_states_and_dependent_territories_in_North_America'\n",
    "# df_json = pd.read_html(url)\n",
    "# df_json[0].head()\n",
    "\n",
    "# Ghi file\n",
    "# df_csv.to_csv('demo_FoodPrice_in_Turkey.csv')\n",
    "# df_excel.to_excel('demo_house_price_dống-da.xlsx')\n",
    "# df_json[0].to_json('demo_FoodPrice.json',orient='columns')\n",
    "# df_csv.to_hdf('demo_FoodPrice.h5', 'table')\n",
    "df_csv.to_html('demo_FoodPrice.html')"
   ]
  },
  {
   "cell_type": "code",
   "execution_count": null,
   "id": "a208c371",
   "metadata": {},
   "outputs": [],
   "source": []
  }
 ],
 "metadata": {
  "kernelspec": {
   "display_name": "Python 3 (ipykernel)",
   "language": "python",
   "name": "python3"
  },
  "language_info": {
   "codemirror_mode": {
    "name": "ipython",
    "version": 3
   },
   "file_extension": ".py",
   "mimetype": "text/x-python",
   "name": "python",
   "nbconvert_exporter": "python",
   "pygments_lexer": "ipython3",
   "version": "3.9.12"
  }
 },
 "nbformat": 4,
 "nbformat_minor": 5
}
